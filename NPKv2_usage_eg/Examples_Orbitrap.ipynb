{
 "metadata": {
  "name": "",
  "signature": "sha256:64f5fb8c6d4a1552e9d341df23df762873b85df38da2ce3f835ae10139f8fec0"
 },
 "nbformat": 3,
 "nbformat_minor": 0,
 "worksheets": [
  {
   "cells": [
    {
     "cell_type": "heading",
     "level": 3,
     "metadata": {},
     "source": [
      "Some examples on how to use NPKv2."
     ]
    },
    {
     "cell_type": "markdown",
     "metadata": {},
     "source": [
      "* simple import of native dataset.\n",
      "\n",
      "* simple FID handling, processing and display\n",
      "\n",
      "* FFT with zerofilling\n",
      "\n",
      "* RECTIAL : non-Fourier resolution enhancement\n",
      "\n",
      "* urQRd : noise-reduction\n",
      "\n",
      "You have first to execute the first two cells, then you can execute independently any of the example cells. \n",
      "We begin first with simple import then we show how to make more elaborated commands involving data treatment algorithms such as RECITAL and urQRd."
     ]
    },
    {
     "cell_type": "code",
     "collapsed": false,
     "input": [
      "# load scientific environment\n",
      "%pylab\n",
      "import sys\n",
      "# put in sys.path.append() the adress of where you actually put the NPK_V2 program\n",
      "#sys.path.append(\"C:\\Users\\Lionel\\NPK_V2\\draft\")\n",
      "sys.path.append(\"/Users/mad/NPKV2/draft\")\n",
      "\n",
      "import Orbitrap as O                 # loads the whole NPKV2 environment, tuned to Orbitrap\n",
      "from File.Thermo import Import_1D    # adds the Thermofisher importer\n"
     ],
     "language": "python",
     "metadata": {},
     "outputs": []
    },
    {
     "cell_type": "markdown",
     "metadata": {},
     "source": [
      "### 0) Import Orbitrap DATA\n",
      "You enter the filename, then the command `Import_1D()` loads it into memory\n",
      "\n",
      "the data is put into a python variable, that you can handle freely"
     ]
    },
    {
     "cell_type": "code",
     "collapsed": false,
     "input": [
      "#put your filename here\n",
      "filename = \"C:/Users/Egor/NPK_V2/DATA_test/ubiquitin_5_scan_res_30000_1.dat\"\n",
      "o = Import_1D(filename)\n",
      "print o"
     ],
     "language": "python",
     "metadata": {},
     "outputs": []
    },
    {
     "cell_type": "markdown",
     "metadata": {},
     "source": [
      "### 1) Show FID\n",
      "Then you can apply action to the data by the appending the method name to the variable.\n",
      "The methods may have parameters\n",
      "\n",
      "For instance displaying,\n",
      "You can zoom in, and move around with the graphical tools\n",
      "You can also store picture files (png, pdf, etc..)"
     ]
    },
    {
     "cell_type": "code",
     "collapsed": false,
     "input": [
      "o.display(label = \"FID\")"
     ],
     "language": "python",
     "metadata": {},
     "outputs": []
    },
    {
     "cell_type": "markdown",
     "metadata": {},
     "source": [
      "### 2) FFT with zerofilling\n",
      "methods are applied in sequence on the data, modifying its content, this is call a pipe.\n",
      "\n",
      "`apod_sin(maxi = 0.5)` corresponds to a sine-bell apodisation, with its maxium midway in the FID. (aka Hammng window)"
     ]
    },
    {
     "cell_type": "code",
     "collapsed": false,
     "input": [
      "print o\n",
      "o.apod_sin(maxi = 0.5).chsize(o.buffer.size*2).rfft().modulus()\n",
      "o.units = 'm/z'\n",
      "o.display(label = \"zerofill x2\")"
     ],
     "language": "python",
     "metadata": {},
     "outputs": []
    },
    {
     "cell_type": "markdown",
     "metadata": {},
     "source": [
      "#### 2.1) FFT with zerofilling, processing cutting the pipes.\n",
      "this is strictly equivalent"
     ]
    },
    {
     "cell_type": "code",
     "collapsed": false,
     "input": [
      "# here, we have to reload it again !\n",
      "o = Import_1D(filename)\n",
      "o.units = 'm/z'\n",
      "o.apod_sin(maxi = 0.5)\n",
      "o.chsize(o.buffer.size*4)\n",
      "o.rfft()\n",
      "o.modulus().display(label = \"zerofill x4\")"
     ],
     "language": "python",
     "metadata": {},
     "outputs": []
    },
    {
     "cell_type": "markdown",
     "metadata": {},
     "source": [
      "### 3) RECITAL\n",
      "is an alternative to FT,  used for improving the resolution"
     ]
    },
    {
     "cell_type": "code",
     "collapsed": false,
     "input": [
      "o = Import_1D(filename)\n",
      "o.report()\n",
      "o.units = 'm/z'\n",
      "o.recital(o.size1).modulus()\n",
      "o.display(label = \"recital x 4\")"
     ],
     "language": "python",
     "metadata": {},
     "outputs": []
    },
    {
     "cell_type": "markdown",
     "metadata": {},
     "source": [
      "### 4) urQRd\n",
      "is a preprocessing techniaue, used for reducing the noise\n",
      "\n",
      "The parameter $k$ given to urQRd is related to the number of expected lines in the spectrum. \n",
      "It should be chosen 2 to 3 times larger than this expected number.\n",
      "\n",
      "Be carefull than the processing time **and** the memory footprint are both proportionnal to this value."
     ]
    },
    {
     "cell_type": "code",
     "collapsed": false,
     "input": [
      "o = Import_1D(\"../DATA_test/ubiquitin_5_scan_res_30000_1.dat\")\n",
      "o.report()\n",
      "o.units = 'm/z'\n",
      "o.urqrd(k = 300).rfft().modulus().display(label = \"urQRd, rank = 300\")"
     ],
     "language": "python",
     "metadata": {},
     "outputs": []
    },
    {
     "cell_type": "markdown",
     "metadata": {},
     "source": [
      "### 5) comparing FT and recital on a truncated FID,\n",
      "truncated just after first beat"
     ]
    },
    {
     "cell_type": "code",
     "collapsed": false,
     "input": [
      "o = Import_1D(filename)\n",
      "o.chsize(400000)\n",
      "o.units = 'm/z'\n",
      "o.apod_sin(maxi = 0.5).chsize(o.size1*8).rfft().modulus().display(label = \"FT\")\n"
     ],
     "language": "python",
     "metadata": {},
     "outputs": []
    },
    {
     "cell_type": "code",
     "collapsed": false,
     "input": [
      "oo = Import_1D(filename)\n",
      "oo.chsize(400000)\n",
      "oo.units = 'm/z'\n",
      "oo.recital(oo.size1*4, miniteration=200, iterations=4).modulus().display(label = \"recital\")"
     ],
     "language": "python",
     "metadata": {},
     "outputs": []
    },
    {
     "cell_type": "markdown",
     "metadata": {},
     "source": [
      "# Additional tricks\n",
      "### ipython short cuts\n",
      "there are *many* shortcuts and tricks in ipython, read the doc !\n",
      "\n",
      "a couple of them are really helpfull for MS processing\n",
      "* you can execute a cell by hitting `shift-return`\n",
      "* you can get the documentation of any function by adding a ? at the end of its name, eg `o.rfft?`\n",
      "* you can get all possible values by hitting the `<TAB>` key. Try for instance typing `o. <TAB>`\n",
      "\n",
      "### NPK arcanes\n",
      "If needed, you can directly manipulate the numeric data held into the NPK dataet, \n",
      "the `.get_buffer()` method returns the underlying `numpy` array.\n",
      "The `.set_buffer()` method sets it, data can be real or complex.\n",
      "Do `.adapt_size()` afterwards if you changed the number of points.\n"
     ]
    },
    {
     "cell_type": "code",
     "collapsed": false,
     "input": [
      "o = Import_1D(filename)\n",
      "oo = o.copy()\n",
      "oo.chsize(len(o.buffer)/4)          # shorten the FID\n",
      "oo.set_buffer( oo.get_buffer()+800 )   # this adds a value to the data, just for display purpose\n",
      "oo.adapt_size()\n",
      "o.display(label = \"FID\")\n",
      "oo.display(label = \"shorten FID\", new_fig = False)"
     ],
     "language": "python",
     "metadata": {},
     "outputs": []
    },
    {
     "cell_type": "code",
     "collapsed": false,
     "input": [
      "o.rfft?"
     ],
     "language": "python",
     "metadata": {},
     "outputs": []
    },
    {
     "cell_type": "markdown",
     "metadata": {},
     "source": [
      "It is also possible to use this sheet as a simple calculator, can be handy some time, for instance for checking charge state."
     ]
    },
    {
     "cell_type": "code",
     "collapsed": false,
     "input": [
      "1/(714.566-714.649)"
     ],
     "language": "python",
     "metadata": {},
     "outputs": []
    }
   ],
   "metadata": {}
  }
 ]
}
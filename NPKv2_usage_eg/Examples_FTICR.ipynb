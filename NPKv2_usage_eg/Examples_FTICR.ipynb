{
 "metadata": {
  "name": "Examples_FTICR"
 },
 "nbformat": 3,
 "nbformat_minor": 0,
 "worksheets": [
  {
   "cells": [
    {
     "cell_type": "heading",
     "level": 2,
     "metadata": {},
     "source": [
      "Few examples of how to use NPKv2."
     ]
    },
    {
     "cell_type": "markdown",
     "metadata": {},
     "source": [
      "0 simple import of native dataset.\n",
      "\n",
      "1 simple FID\n",
      "\n",
      "2 FFT with zerofilling\n",
      "\n",
      "3 RECTIAL\n",
      "\n",
      "4 urQRd\n",
      "\n",
      "You have first to execute the first two cells, then you can execute independently any of the example cells. \n",
      "We begin first with simple import then we show how to make more elaborated commands involving data treatment algorithms such as RECITAL and urQRd."
     ]
    },
    {
     "cell_type": "code",
     "collapsed": false,
     "input": [
      "cd .."
     ],
     "language": "python",
     "metadata": {},
     "outputs": [
      {
       "output_type": "stream",
       "stream": "stdout",
       "text": [
        "/Users/chiron/bitbuck/draft\n"
       ]
      }
     ],
     "prompt_number": 1
    },
    {
     "cell_type": "code",
     "collapsed": false,
     "input": [
      "from File.Apex import Import_1D\n",
      "import numpy as np                  # pour faire des calculs\n",
      "import matplotlib.pyplot as plt     # pour afficher les donn\u00e9es brutes\n",
      "from FTICR import FTICRData"
     ],
     "language": "python",
     "metadata": {},
     "outputs": [
      {
       "output_type": "stream",
       "stream": "stdout",
       "text": [
        "\n",
        "    ========================\n",
        "          NPKv2\n",
        "    ========================\n",
        "    Version     : 0.5.1\n",
        "    Date        : 26-03-2014\n",
        "    Revision Id : 580\n",
        "    ========================\n"
       ]
      }
     ],
     "prompt_number": 2
    },
    {
     "cell_type": "heading",
     "level": 3,
     "metadata": {},
     "source": [
      "Import from Apex"
     ]
    },
    {
     "cell_type": "markdown",
     "metadata": {},
     "source": [
      "Simple import from Apex format"
     ]
    },
    {
     "cell_type": "code",
     "collapsed": false,
     "input": [
      "f = Import_1D(\"../DATA_test/angio_ms_000005.d\")\n",
      "f.report()"
     ],
     "language": "python",
     "metadata": {},
     "outputs": [
      {
       "output_type": "stream",
       "stream": "stdout",
       "text": [
        "['../DATA_test/angio_ms_000005.d/Apex2_LC_autoexclusion_test2.m/apexAcquisition.method'] 1\n"
       ]
      },
      {
       "output_type": "pyout",
       "prompt_number": 4,
       "text": [
        "'Dim 1\\nAxis F1 : FT-ICR axis at 1000.000000 kHz,  524288 real points,  from mz = 1500.000   to m/z =  144.365  M/DeltaM (M=400) = 189221'"
       ]
      }
     ],
     "prompt_number": 4
    },
    {
     "cell_type": "heading",
     "level": 3,
     "metadata": {},
     "source": [
      "Show the FID"
     ]
    },
    {
     "cell_type": "code",
     "collapsed": false,
     "input": [
      "f = Import_1D(\"../DATA_test/angio_ms_000005.d\")\n",
      "f.display(label = \"FID\")"
     ],
     "language": "python",
     "metadata": {},
     "outputs": [
      {
       "output_type": "stream",
       "stream": "stdout",
       "text": [
        "['../DATA_test/angio_ms_000005.d/Apex2_LC_autoexclusion_test2.m/apexAcquisition.method'] 1\n",
        "computing absmax..."
       ]
      }
     ],
     "prompt_number": "*"
    },
    {
     "cell_type": "heading",
     "level": 3,
     "metadata": {},
     "source": [
      "Show the half truncated FID and full FID"
     ]
    },
    {
     "cell_type": "code",
     "collapsed": false,
     "input": [
      "f = Import_1D(\"../DATA_test/angio_ms_000005.d\")\n",
      "f.chsize(len(f.buffer)/2)\n",
      "ff = f.copy()\n",
      "ff.buffer = ff.buffer[:len(f.buffer)/2]/2\n",
      "f.display(label = \"FID\")\n",
      "f.display(label = \"FID cut\", new_fig = False)"
     ],
     "language": "python",
     "metadata": {},
     "outputs": [
      {
       "output_type": "stream",
       "stream": "stdout",
       "text": [
        "['../DATA_test/angio_ms_000005.d/Apex2_LC_autoexclusion_test2.m/apexAcquisition.method'] 1\n",
        "computing absmax..."
       ]
      },
      {
       "output_type": "stream",
       "stream": "stdout",
       "text": [
        " absmax 71330.0\n",
        "absmax 71330.0\n"
       ]
      },
      {
       "output_type": "pyout",
       "prompt_number": 6,
       "text": [
        "Dim 1\n",
        "Axis F1 : FT-ICR axis at 1000.000000 kHz,  262144 real points,  from mz = 1500.000   to m/z =  144.365  M/DeltaM (M=400) = 94611"
       ]
      }
     ],
     "prompt_number": 6
    },
    {
     "cell_type": "heading",
     "level": 3,
     "metadata": {},
     "source": [
      "Doing FFT with zerofilling"
     ]
    },
    {
     "cell_type": "markdown",
     "metadata": {},
     "source": [
      "Classical FFT with apodisation and zerofilling."
     ]
    },
    {
     "cell_type": "code",
     "collapsed": false,
     "input": [
      "f = Import_1D(\"../DATA_test/angio_ms_000005.d\")\n",
      "f.report()\n",
      "f.units = 'm/z'\n",
      "f.apod_sin(maxi = 0.5).chsize(f.buffer.size*2).rfft().modulus().display(label = \"zerofill x2\", show = True)"
     ],
     "language": "python",
     "metadata": {},
     "outputs": []
    },
    {
     "cell_type": "heading",
     "level": 3,
     "metadata": {},
     "source": [
      "FFT with zerofilling, processing cutting the pipes."
     ]
    },
    {
     "cell_type": "markdown",
     "metadata": {},
     "source": [
      "Here instead of writing a single long command with pipelines, the command is cut in many chunks.\n",
      "This can be used for performing intermediate operations not present in NPKv2."
     ]
    },
    {
     "cell_type": "code",
     "collapsed": false,
     "input": [
      "f = Import_1D(\"../DATA_test/angio_ms_000005.d\")\n",
      "f.units = 'm/z'\n",
      "f.apod_sin(maxi = 0.5)\n",
      "f.chsize(f.buffer.size*2).rfft()\n",
      "f.modulus().display(label = \"zerofill x2\", show = True)"
     ],
     "language": "python",
     "metadata": {},
     "outputs": []
    },
    {
     "cell_type": "heading",
     "level": 3,
     "metadata": {},
     "source": [
      "Using RECITAL"
     ]
    },
    {
     "cell_type": "markdown",
     "metadata": {},
     "source": [
      "Here RECITAL is used for improving the resolution.  "
     ]
    },
    {
     "cell_type": "code",
     "collapsed": false,
     "input": [
      "f = Import_1D(\"../DATA_test/angio_ms_000005.d\")\n",
      "f.units = 'm/z'\n",
      "f.recital(f.buffer.size*4).modulus().display(label = \"RECITAL x4\", show = True)"
     ],
     "language": "python",
     "metadata": {},
     "outputs": []
    },
    {
     "cell_type": "heading",
     "level": 3,
     "metadata": {},
     "source": [
      "Using urQRd"
     ]
    },
    {
     "cell_type": "markdown",
     "metadata": {},
     "source": [
      "Example of how to use urQRd for denoising a spectrum. As a rule of thumb, the rank must be few times the number of expected frequencies."
     ]
    },
    {
     "cell_type": "code",
     "collapsed": false,
     "input": [
      "f = Import_1D(\"../DATA_test/angio_ms_000005.d\")\n",
      "f.units = 'm/z'\n",
      "f.urqrd(k = 300).rfft().modulus().display(label = \"urQRd, rank = 300\", show = True)"
     ],
     "language": "python",
     "metadata": {},
     "outputs": []
    }
   ],
   "metadata": {}
  }
 ]
}